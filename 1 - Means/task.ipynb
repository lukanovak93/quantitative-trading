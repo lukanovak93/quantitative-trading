{
 "cells": [
  {
   "cell_type": "markdown",
   "metadata": {},
   "source": [
    "# Exercises: Means \n",
    "By Christopher van Hoecke and Max Margenot\n",
    "\n",
    "## Lecture Link :\n",
    "https://www.quantopian.com/lectures/means\n",
    "\n",
    "### IMPORTANT NOTE: \n",
    "This lecture corresponds to the Means lecture, which is part of the Quantopian lecture series. This homework expects you to rely heavily on the code presented in the corresponding lecture. Please copy and paste regularly from that lecture when starting to work on the problems, as trying to do them from scratch will likely be too difficult.\n",
    "\n",
    "Part of the Quantopian Lecture Series:\n",
    "\n",
    "* [www.quantopian.com/lectures](https://www.quantopian.com/lectures)\n",
    "* [github.com/quantopian/research_public](https://github.com/quantopian/research_public)\n",
    "\n",
    "----"
   ]
  },
  {
   "cell_type": "markdown",
   "metadata": {},
   "source": [
    "## Key Concepts"
   ]
  },
  {
   "cell_type": "code",
   "execution_count": 45,
   "metadata": {},
   "outputs": [],
   "source": [
    "# Useful Functions\n",
    "def mode(l):\n",
    "    # Count the number of times each element appears in the list\n",
    "    counts = {}\n",
    "    for e in l:\n",
    "        if e in counts:\n",
    "            counts[e] += 1\n",
    "        else:\n",
    "            counts[e] = 1\n",
    "            \n",
    "    # Return the elements that appear the most times\n",
    "    maxcount = 0\n",
    "    modes = {}\n",
    "    for (key, value) in counts.items():\n",
    "        if value > maxcount:\n",
    "            maxcount = value\n",
    "            modes = {key}\n",
    "        elif value == maxcount:\n",
    "            modes.add(key)\n",
    "            \n",
    "    if maxcount > 1 or len(l) == 1:\n",
    "        return list(modes)\n",
    "    return 'No mode'"
   ]
  },
  {
   "cell_type": "code",
   "execution_count": 2,
   "metadata": {},
   "outputs": [],
   "source": [
    "# Useful Libraries\n",
    "import scipy.stats as stats\n",
    "import numpy as np"
   ]
  },
  {
   "cell_type": "markdown",
   "metadata": {},
   "source": [
    "#### Data:"
   ]
  },
  {
   "cell_type": "code",
   "execution_count": 3,
   "metadata": {},
   "outputs": [],
   "source": [
    "l=[]\n",
    "for x in range(1,100):\n",
    "    x=np.random.randint(1,100)\n",
    "    l.append(x)"
   ]
  },
  {
   "cell_type": "markdown",
   "metadata": {},
   "source": [
    "----"
   ]
  },
  {
   "cell_type": "markdown",
   "metadata": {},
   "source": [
    "# Exercise 1 : Arithmetic mean.\n",
    "## a. Mean of random data set.\n",
    "Find the mean of the randomly generated data set `l`. "
   ]
  },
  {
   "cell_type": "code",
   "execution_count": 4,
   "metadata": {},
   "outputs": [
    {
     "name": "stdout",
     "output_type": "stream",
     "text": [
      "51.6767676768\n"
     ]
    }
   ],
   "source": [
    "## Your code goes here       \n",
    "print(np.mean(l))"
   ]
  },
  {
   "cell_type": "markdown",
   "metadata": {},
   "source": [
    "## b. Mean of returns\n",
    "Find the mean of the returns of Iteris Inc. (ITI)."
   ]
  },
  {
   "cell_type": "code",
   "execution_count": 5,
   "metadata": {},
   "outputs": [
    {
     "name": "stdout",
     "output_type": "stream",
     "text": [
      "-8.336952920193804e-05\n"
     ]
    }
   ],
   "source": [
    "price = get_pricing('ITI', fields='price', start_date='2005-01-01', end_date='2010-01-01')\n",
    "returns = price.pct_change()[1:]\n",
    "\n",
    "## Your code goes here.\n",
    "print(np.mean(returns))"
   ]
  },
  {
   "cell_type": "markdown",
   "metadata": {},
   "source": [
    "---"
   ]
  },
  {
   "cell_type": "markdown",
   "metadata": {},
   "source": [
    "# Exercise 2 : Median\n",
    "## a. Median of random data set\n",
    "Find the median of the randomly generated data set `l`."
   ]
  },
  {
   "cell_type": "code",
   "execution_count": 6,
   "metadata": {},
   "outputs": [
    {
     "name": "stdout",
     "output_type": "stream",
     "text": [
      "49.0\n"
     ]
    }
   ],
   "source": [
    "## Your code goes here   \n",
    "print(np.median(l))"
   ]
  },
  {
   "cell_type": "markdown",
   "metadata": {},
   "source": [
    "## b. Median of the returns.\n",
    "Find the median associated with the returns of Bank of America Corp. (BAC)."
   ]
  },
  {
   "cell_type": "code",
   "execution_count": 7,
   "metadata": {},
   "outputs": [
    {
     "name": "stdout",
     "output_type": "stream",
     "text": [
      "-0.000409084894317\n"
     ]
    }
   ],
   "source": [
    "price = get_pricing('BAC', fields='open_price', start_date='2005-01-01', end_date='2010-01-01')\n",
    "returns = price.pct_change()[1:]\n",
    "\n",
    "## Your code goes here\n",
    "print(np.median(returns))"
   ]
  },
  {
   "cell_type": "markdown",
   "metadata": {},
   "source": [
    "----"
   ]
  },
  {
   "cell_type": "markdown",
   "metadata": {},
   "source": [
    "# Exercise 3 : Mode\n",
    "## a. Mode of a random data set. \n",
    "Find the mode of the random generated data set `l`."
   ]
  },
  {
   "cell_type": "code",
   "execution_count": 8,
   "metadata": {},
   "outputs": [
    {
     "name": "stdout",
     "output_type": "stream",
     "text": [
      "[35]\n"
     ]
    }
   ],
   "source": [
    "## Your code goes here\n",
    "print(mode(l))"
   ]
  },
  {
   "cell_type": "markdown",
   "metadata": {},
   "source": [
    "## b. Mode of the returns. \n",
    "Find the mode associated with the returns of Goldman Sachs Corp. (GS). *Recall with returns, there may not be any values that appear more than once.*"
   ]
  },
  {
   "cell_type": "code",
   "execution_count": 14,
   "metadata": {},
   "outputs": [
    {
     "name": "stdout",
     "output_type": "stream",
     "text": [
      "No mode\n",
      "[(-0.0032880064356335184, 0.0030766703077806379)]\n"
     ]
    }
   ],
   "source": [
    "start = '2014-01-01'\n",
    "end = '2015-01-01'\n",
    "pricing = get_pricing('GS', fields='price', start_date=start, end_date=end)\n",
    "returns = pricing.pct_change()[1:]\n",
    "\n",
    "## Your code goes here\n",
    "print(mode(returns))\n",
    "\n",
    "# binning\n",
    "hist, bins = np.histogram(returns, 10)\n",
    "maxfreq = max(hist)\n",
    "\n",
    "print([(bins[i], bins[i+1]) for i, j in enumerate(hist) if j == maxfreq])"
   ]
  },
  {
   "cell_type": "markdown",
   "metadata": {},
   "source": [
    "----"
   ]
  },
  {
   "cell_type": "markdown",
   "metadata": {},
   "source": [
    "# Exercise 4 : Geometric mean\n",
    "## a. Geometric Mean of random data set.\n",
    "Find the Geometric mean of the random generated data set."
   ]
  },
  {
   "cell_type": "code",
   "execution_count": 16,
   "metadata": {},
   "outputs": [
    {
     "name": "stdout",
     "output_type": "stream",
     "text": [
      "40.3207280481\n"
     ]
    }
   ],
   "source": [
    "## Your code goes here\n",
    "print(stats.gmean(l))"
   ]
  },
  {
   "cell_type": "markdown",
   "metadata": {},
   "source": [
    "## b. Geometric Mean of returns. \n",
    "Find the Geometric Mean of the price of Citi bank (C) for the last 5 years. "
   ]
  },
  {
   "cell_type": "code",
   "execution_count": 35,
   "metadata": {},
   "outputs": [
    {
     "name": "stdout",
     "output_type": "stream",
     "text": [
      "21.5434707851\n"
     ]
    }
   ],
   "source": [
    "price = get_pricing('C', fields='open_price', start_date='2005-01-01', end_date='2010-01-01')\n",
    "\n",
    "## Your code goes here\n",
    "print(stats.gmean(price.values))"
   ]
  },
  {
   "cell_type": "markdown",
   "metadata": {},
   "source": [
    "---"
   ]
  },
  {
   "cell_type": "markdown",
   "metadata": {},
   "source": [
    "# Exercise 5 : Harmonic mean.\n",
    "## a. Harmonic Mean of random data set. \n",
    "Find the harmonic mean of the randomly generated data set `l`."
   ]
  },
  {
   "cell_type": "code",
   "execution_count": 23,
   "metadata": {},
   "outputs": [
    {
     "name": "stdout",
     "output_type": "stream",
     "text": [
      "24.9933313954\n"
     ]
    }
   ],
   "source": [
    "## Your code goes here \n",
    "print(stats.hmean(l))"
   ]
  },
  {
   "cell_type": "markdown",
   "metadata": {},
   "source": [
    "## b. Harmonic Mean of stock returns.\n",
    "Find the Harmonic Mean of the financial ETF (XLF) over the last 2 years."
   ]
  },
  {
   "cell_type": "code",
   "execution_count": 36,
   "metadata": {
    "scrolled": true
   },
   "outputs": [
    {
     "name": "stdout",
     "output_type": "stream",
     "text": [
      "26.8457792686\n"
     ]
    }
   ],
   "source": [
    "## Your code goes here\n",
    "price = get_pricing('XLF', fields='open_price', start_date='2018-01-01', end_date='2020-01-01')\n",
    "\n",
    "print(stats.hmean(price))"
   ]
  },
  {
   "cell_type": "markdown",
   "metadata": {},
   "source": [
    "----"
   ]
  },
  {
   "cell_type": "markdown",
   "metadata": {},
   "source": [
    "# Exercise 6 : Skewness and why it matters.\n",
    "Skewness in a probability distribution is the measure of asymmetry. Negative skew has fewer low values and a longer left tail, whereas positive skew has fewer high values and a longer right tail.\n",
    "In asset pricing, skewness is an important information, naimly in risk assessment. Knowledge that the market has a 60% chance of going down and a 40% chance of going up apears helpfull but only if we know the market is obeying a normal distrubtuion. If we are told that the market will go up 2% but down 18%, we can see how skewness would give us better information.\n",
    "\n",
    "Determine if the returns of SPY from 2010 to 2017 is positivly or negativly skewed. \n",
    "*Recall a data set is positivly skewed if the mode is smaller than the median, which is smaller than the mean. A data set is negativly skewed in the event of the reverse (i.e: the mean is greater than the median, which is greater than the mode)*"
   ]
  },
  {
   "cell_type": "code",
   "execution_count": 55,
   "metadata": {
    "scrolled": false
   },
   "outputs": [
    {
     "name": "stdout",
     "output_type": "stream",
     "text": [
      "Mode:  -0.0787474874649\n",
      "Median:  -0.0156134608453\n",
      "Mean:  0.05326474548275556\n",
      "\n",
      "Data is positively skewed\n"
     ]
    }
   ],
   "source": [
    "price = get_pricing('SPY', fields='volume', start_date='2010-01-01', end_date='2017-01-01')\n",
    "returns = price.pct_change()[1:]\n",
    "\n",
    "## Your code goes here\n",
    "# Mode:\n",
    "if isinstance(mode(returns), str):\n",
    "    hist, bins = np.histogram(returns, 30)\n",
    "    maxfreq = max(hist)\n",
    "\n",
    "    mode_values = [(bins[i] + bins[i+1]) / 2 for i, j in enumerate(hist) if j == maxfreq]\n",
    "    if len(mode_values) == 1:\n",
    "        mode_values = mode_values[0]\n",
    "        \n",
    "median_value = np.median(returns)\n",
    "mean_value = np.mean(returns)\n",
    "\n",
    "print(\"Mode: \", mode_values)\n",
    "print(\"Median: \", median_value)\n",
    "print(\"Mean: \", mean_value)\n",
    "\n",
    "if mode_values < median_value < mean_value:\n",
    "    print(\"\\nData is positively skewed\")\n",
    "elif mode_values < mean_value < median_value:\n",
    "    print(\"\\nData is symetrically distributed\")\n",
    "else:\n",
    "    print(\"\\nData is negatively skewed\")"
   ]
  },
  {
   "cell_type": "markdown",
   "metadata": {},
   "source": [
    "We can clearly see positive skewing from the histogram of the returns. We see fewer higher values and a longer right tail.\n",
    "Plot the histograms of the returns now."
   ]
  },
  {
   "cell_type": "code",
   "execution_count": 67,
   "metadata": {},
   "outputs": [
    {
     "data": {
      "image/png": "[encoded data removed]",
      "text/plain": [
       "<matplotlib.figure.Figure at 0x7f24b3cb1d30>"
      ]
     },
     "metadata": {},
     "output_type": "display_data"
    }
   ],
   "source": [
    "import matplotlib.pyplot as plt\n",
    "\n",
    "## Your code here\n",
    "f = plt.hist(returns, bins=100)\n",
    "plt.plot(mean_value, color='r')\n",
    "plt.show()"
   ]
  },
  {
   "cell_type": "markdown",
   "metadata": {},
   "source": [
    "---\n",
    "\n",
    "Congratulations on completing the Means exercises!\n",
    "\n",
    "As you learn more about writing trading algorithms and the Quantopian platform, be sure to check out the daily [Quantopian Contest](https://www.quantopian.com/contest), in which you can compete for a cash prize every day.\n",
    "\n",
    "Start by going through the [Writing a Contest Algorithm](https://www.quantopian.com/tutorials/contest) tutorial."
   ]
  },
  {
   "cell_type": "markdown",
   "metadata": {},
   "source": [
    "*This presentation is for informational purposes only and does not constitute an offer to sell, a solicitation to buy, or a recommendation for any security; nor does it constitute an offer to provide investment advisory or other services by Quantopian, Inc. (\"Quantopian\"). Nothing contained herein constitutes investment advice or offers any opinion with respect to the suitability of any security, and any views expressed herein should not be taken as advice to buy, sell, or hold any security or as an endorsement of any security or company.  In preparing the information contained herein, Quantopian, Inc. has not taken into account the investment needs, objectives, and financial circumstances of any particular investor. Any views expressed and data illustrated herein were prepared based upon information, believed to be reliable, available to Quantopian, Inc. at the time of publication. Quantopian makes no guarantees as to their accuracy or completeness. All information is subject to change and may quickly become unreliable for various reasons, including changes in market conditions or economic circumstances.*"
   ]
  }
 ],
 "metadata": {
  "kernelspec": {
   "display_name": "Python 3.5",
   "language": "python",
   "name": "py35"
  },
  "language_info": {
   "codemirror_mode": {
    "name": "ipython",
    "version": 3
   },
   "file_extension": ".py",
   "mimetype": "text/x-python",
   "name": "python",
   "nbconvert_exporter": "python",
   "pygments_lexer": "ipython3",
   "version": "3.5.9"
  }
 },
 "nbformat": 4,
 "nbformat_minor": 2
}